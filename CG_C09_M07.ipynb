{
 "cells": [
  {
   "cell_type": "markdown",
   "metadata": {
    "id": "mToj0kqPHLmS"
   },
   "source": [
    "# MLP with PyTorch"
   ]
  },
  {
   "cell_type": "markdown",
   "metadata": {
    "id": "NbbgVTcvHRMj"
   },
   "source": [
    "## Getting Ready"
   ]
  },
  {
   "cell_type": "markdown",
   "metadata": {
    "id": "rc0hcai-HVn7"
   },
   "source": [
    "Run all \"step0\"s literally as they are."
   ]
  },
  {
   "cell_type": "markdown",
   "metadata": {
    "id": "zRKUO1WXHjzy"
   },
   "source": [
    "### Step 0: Libraries and Data"
   ]
  },
  {
   "cell_type": "markdown",
   "metadata": {
    "id": "NBU4CPIpICA8"
   },
   "source": [
    "There are two data sets, one for classification (wine) and one for regression (diabetes)."
   ]
  },
  {
   "cell_type": "code",
   "execution_count": 3,
   "metadata": {
    "id": "7XvlhCIc2xT4"
   },
   "outputs": [],
   "source": [
    "# CodeGrade step0\n",
    "\n",
    "# Libraries\n",
    "import numpy as np\n",
    "import pandas as pd\n",
    "import torch\n",
    "import torch.nn as nn\n",
    "import torch.nn.functional as F\n",
    "import torch.optim as optim\n",
    "from torch.utils.data import TensorDataset, DataLoader\n",
    "from sklearn.datasets import load_diabetes\n",
    "from sklearn.datasets import load_wine\n",
    "from sklearn.model_selection import train_test_split\n",
    "from sklearn.preprocessing import StandardScaler\n",
    "\n",
    "# Load data\n",
    "wine_data = load_wine()\n",
    "diabetes_data = load_diabetes()"
   ]
  },
  {
   "cell_type": "markdown",
   "metadata": {
    "id": "TaD7hMzTHZ33"
   },
   "source": [
    "Preprocess both data sets."
   ]
  },
  {
   "cell_type": "code",
   "execution_count": 4,
   "metadata": {
    "id": "6WPHMimP3Xcz"
   },
   "outputs": [],
   "source": [
    "# CodeGrade step0\n",
    "\n",
    "# Preprocessing\n",
    "\n",
    "# Classification\n",
    "\n",
    "X1 = wine_data.data\n",
    "y1 = wine_data.target\n",
    "\n",
    "# Split data (80% train, 20% test)\n",
    "X1_train, X1_test, y1_train, y1_test = train_test_split(\n",
    "    X1, y1, test_size=0.2, random_state=42\n",
    ")\n",
    "\n",
    "# Standardize features\n",
    "scaler = StandardScaler()\n",
    "X1_train = scaler.fit_transform(X1_train)\n",
    "X1_test = scaler.transform(X1_test)\n",
    "\n",
    "# Convert to PyTorch tensors\n",
    "X1_train_t = torch.tensor(X1_train, dtype=torch.float32)\n",
    "y1_train_t = torch.tensor(y1_train, dtype=torch.long)\n",
    "X1_test_t = torch.tensor(X1_test, dtype=torch.float32)\n",
    "y1_test_t = torch.tensor(y1_test, dtype=torch.long)\n",
    "\n",
    "X1_train_t.shape, y1_train_t.shape, X1_test_t.shape, y1_test_t.shape\n",
    "\n",
    "\n",
    "# Regression\n",
    "\n",
    "X2 = diabetes_data.data\n",
    "y2 = diabetes_data.target\n",
    "\n",
    "# Split data (80% train, 20% test)\n",
    "X2_train, X2_test, y2_train, y2_test = train_test_split(\n",
    "    X2, y2, test_size=0.2, random_state=42\n",
    ")\n",
    "\n",
    "# Standardize features\n",
    "scaler = StandardScaler()\n",
    "X2_train = scaler.fit_transform(X2_train)\n",
    "X2_test = scaler.transform(X2_test)\n",
    "\n",
    "# Convert to PyTorch tensors\n",
    "X2_train_t = torch.tensor(X2_train, dtype=torch.float32)\n",
    "y2_train_t = torch.tensor(y2_train, dtype=torch.float32).view(-1, 1)\n",
    "X2_test_t = torch.tensor(X2_test, dtype=torch.float32)\n",
    "y2_test_t = torch.tensor(y2_test, dtype=torch.float32).view(-1, 1)\n"
   ]
  },
  {
   "cell_type": "markdown",
   "metadata": {
    "id": "riRPukev98Ca"
   },
   "source": [
    "## Part 1: Classification"
   ]
  },
  {
   "cell_type": "markdown",
   "metadata": {
    "id": "HNzh-wchH9TM"
   },
   "source": [
    "Define the MLP model for classification"
   ]
  },
  {
   "cell_type": "code",
   "execution_count": 5,
   "metadata": {
    "id": "vsC8Cyd69mwW"
   },
   "outputs": [],
   "source": [
    "# CodeGrade step0\n",
    "\n",
    "# Define the MLP model for classification\n",
    "class WineMLP(nn.Module):\n",
    "    def __init__(self, input_size=13, hidden_size=16, num_classes=3):\n",
    "        super(WineMLP, self).__init__()\n",
    "        self.fc1 = nn.Linear(input_size, hidden_size)\n",
    "        self.fc2 = nn.Linear(hidden_size, num_classes)\n",
    "\n",
    "    def forward(self, x): # Or even, fruit_forward?\n",
    "        # Hidden layer + ReLU\n",
    "        x = F.relu(self.fc1(x))\n",
    "        # Output layer (no activation, CrossEntropyLoss will apply softmax internally)\n",
    "        x = self.fc2(x)\n",
    "        return x"
   ]
  },
  {
   "cell_type": "markdown",
   "metadata": {
    "id": "QzcI7kxgIPJC"
   },
   "source": [
    "### Step 1: Initialize model, loss function, and optimizer"
   ]
  },
  {
   "cell_type": "markdown",
   "metadata": {
    "id": "E47ra2lcIYlB"
   },
   "source": [
    "* Let `model` be equal to `WineMLP`\n",
    "* Let 'criterion' be equal to the `nn` with cross entropy loss\n",
    "* Let `optimizer` have the Adam optimizer with 'model.paramters' as default and the learning rate set to 0.01\n",
    "\n",
    "Then return 'model, criterion, optimizer'."
   ]
  },
  {
   "cell_type": "code",
   "execution_count": 6,
   "metadata": {
    "id": "YhC1fbvA4Og-"
   },
   "outputs": [
    {
     "data": {
      "text/plain": [
       "(WineMLP(\n",
       "   (fc1): Linear(in_features=13, out_features=16, bias=True)\n",
       "   (fc2): Linear(in_features=16, out_features=3, bias=True)\n",
       " ),\n",
       " CrossEntropyLoss(),\n",
       " Adam (\n",
       " Parameter Group 0\n",
       "     amsgrad: False\n",
       "     betas: (0.9, 0.999)\n",
       "     capturable: False\n",
       "     differentiable: False\n",
       "     eps: 1e-08\n",
       "     foreach: None\n",
       "     fused: None\n",
       "     lr: 0.01\n",
       "     maximize: False\n",
       "     weight_decay: 0\n",
       " ))"
      ]
     },
     "execution_count": 6,
     "metadata": {},
     "output_type": "execute_result"
    }
   ],
   "source": [
    "# CodeGrade step1\n",
    "\n",
    "# Initialize model, loss function, and optimizer\n",
    "model = WineMLP()\n",
    "criterion = nn.CrossEntropyLoss()\n",
    "optimizer = optim.Adam(model.parameters(), lr=0.01)\n",
    "\n",
    "\n",
    "model, criterion, optimizer\n"
   ]
  },
  {
   "cell_type": "markdown",
   "metadata": {
    "id": "JIqXs1eXJGk8"
   },
   "source": [
    "Let's train the model.\n",
    "* Note: Do not print  the epoch's since this will lead to a CodeGrade error.\n",
    "\n",
    "(Which would be an epoch fail)"
   ]
  },
  {
   "cell_type": "code",
   "execution_count": 9,
   "metadata": {
    "id": "DuqO6IHx-Fp-"
   },
   "outputs": [],
   "source": [
    "# CodeGrade step0\n",
    "\n",
    "# Train model\n",
    "train_ds = TensorDataset(X1_train_t, y1_train_t)\n",
    "train_loader = DataLoader(train_ds, batch_size=16, shuffle=True)\n",
    "\n",
    "# Training Model\n",
    "\n",
    "num_epochs = 50\n",
    "for epoch in range(num_epochs):\n",
    "    for batch_x, batch_y in train_loader:\n",
    "        optimizer.zero_grad()\n",
    "        outputs = model(batch_x)\n",
    "        loss = criterion(outputs, batch_y)\n",
    "        loss.backward()\n",
    "        optimizer.step()\n",
    "\n",
    "  #  if (epoch+1) % 10 == 0:\n",
    "   #     print(f\"Epoch [{epoch+1}/{num_epochs}], Loss: {loss.item():.4f}\")\n"
   ]
  },
  {
   "cell_type": "markdown",
   "metadata": {
    "id": "d11_dzWKKApy"
   },
   "source": [
    "### Step 2: Model Evaluation"
   ]
  },
  {
   "cell_type": "markdown",
   "metadata": {
    "id": "S2Rd9KN2JTly"
   },
   "source": [
    "\n",
    "* Set Model to Evaluation Mode:\n",
    "  * `model.eval()` → disables certain layers/behaviors like dropout or batch normalization in training mode (not used in this exact code, but good practice).\n",
    "* Disable Gradient Calculation:\n",
    " * `torch.no_grad()` → speeds up evaluation, doesn’t track gradients.\n",
    "* Forward Pass on Test Set:\n",
    " * `outputs_test = model(X1_test_t)` → obtains predictions on test data.\n",
    "* Predicted Class:\n",
    " * `torch.argmax(outputs_test, dim=1)` → selects the index (class) with the highest probability for each test instance.\n",
    "* Calculate Accuracy:\n",
    " * Compare predictions (predicted) against ground truth `(y1_test_t)`, take the mean over all test samples.\n",
    "* Round:\n",
    "  * `round(accuracy,2)` → just for display, e.g. 0.97 meaning 97% accuracy.\n",
    "\n"
   ]
  },
  {
   "cell_type": "code",
   "execution_count": 14,
   "metadata": {
    "id": "tiA283sWK5IN"
   },
   "outputs": [
    {
     "data": {
      "text/plain": [
       "1.0"
      ]
     },
     "execution_count": 14,
     "metadata": {},
     "output_type": "execute_result"
    }
   ],
   "source": [
    "# CodeGrade step2\n",
    "\n",
    "# Model Evaluation\n",
    "model.eval()\n",
    "with torch.no_grad():\n",
    "    outputs_test = model(X1_test_t)\n",
    "    predicted = torch.argmax(outputs_test, dim=1)\n",
    "    accuracy = (predicted == y1_test_t).float().mean().item()\n",
    "\n",
    "accuracy\n",
    "\n",
    "# Suspciously high accuracy, but it is a very small test set"
   ]
  },
  {
   "cell_type": "markdown",
   "metadata": {
    "id": "rRX7Iga4KHzc"
   },
   "source": [
    "### Step 3: Sample Prediction"
   ]
  },
  {
   "cell_type": "markdown",
   "metadata": {
    "id": "vbUBpiLtKLyd"
   },
   "source": [
    "Let the sample index be 17, and then fill in the rest of the code."
   ]
  },
  {
   "cell_type": "code",
   "execution_count": 15,
   "metadata": {
    "id": "abruOk9pJZMc"
   },
   "outputs": [
    {
     "data": {
      "text/plain": [
       "tensor([[-1.1002, -1.0909,  0.5361,  1.3149, -1.5373, -0.4549, -0.4218,  0.2501,\n",
       "         -0.3577, -1.2303,  1.5159,  0.1767, -0.3482]])"
      ]
     },
     "execution_count": 15,
     "metadata": {},
     "output_type": "execute_result"
    }
   ],
   "source": [
    "# CodeGrade step3\n",
    "\n",
    "# make a sample prediction\n",
    "sample_idx = 17\n",
    "sample_input = X1_test_t[sample_idx].unsqueeze(0)\n",
    "\n",
    "sample_input"
   ]
  },
  {
   "cell_type": "markdown",
   "metadata": {
    "id": "AA_9o1v1KTSD"
   },
   "source": [
    "### Step 4: Predicted class"
   ]
  },
  {
   "cell_type": "code",
   "execution_count": 16,
   "metadata": {
    "id": "3WYXp1frMovj"
   },
   "outputs": [],
   "source": [
    "# CodeGrade step0\n",
    "\n",
    "# Predicted classes\n",
    "\n",
    "with torch.no_grad():\n",
    "    sample_output = model(sample_input)\n",
    "    predicted_class = torch.argmax(sample_output, dim=1).item()\n"
   ]
  },
  {
   "cell_type": "markdown",
   "metadata": {
    "id": "ebS5grHwKWp0"
   },
   "source": [
    "Use a boolean to getermine if `y1_test` for the same datum above is the same as the `predicted_class`"
   ]
  },
  {
   "cell_type": "code",
   "execution_count": 17,
   "metadata": {
    "id": "Fo1VmgTkMp5y"
   },
   "outputs": [
    {
     "data": {
      "text/plain": [
       "True"
      ]
     },
     "execution_count": 17,
     "metadata": {},
     "output_type": "execute_result"
    }
   ],
   "source": [
    "# CodeGrade step4\n",
    "\n",
    "# Test sample class prediction\n",
    "predicted_class == y1_test_t[sample_idx].item()"
   ]
  },
  {
   "cell_type": "markdown",
   "metadata": {
    "id": "NrQeIdjX701n"
   },
   "source": [
    "## Part 2: Regression"
   ]
  },
  {
   "cell_type": "markdown",
   "metadata": {
    "id": "i-vTCI9KKq-2"
   },
   "source": [
    "Define the MLP model for regression"
   ]
  },
  {
   "cell_type": "code",
   "execution_count": 18,
   "metadata": {
    "id": "7XGxoSnu8P9C"
   },
   "outputs": [],
   "source": [
    "# CodeGrade step0\n",
    "\n",
    "# MLP Model for Regression\n",
    "class DiabetesMLP(nn.Module):\n",
    "    def __init__(self, input_size=10, hidden_size=32):\n",
    "        super(DiabetesMLP, self).__init__()\n",
    "        self.fc1 = nn.Linear(input_size, hidden_size)\n",
    "        self.fc2 = nn.Linear(hidden_size, 1)\n",
    "\n",
    "    def forward(self, x):\n",
    "        x = F.relu(self.fc1(x))\n",
    "        # No activation in final layer for regression\n",
    "        x = self.fc2(x)\n",
    "        return x"
   ]
  },
  {
   "cell_type": "markdown",
   "metadata": {
    "id": "Ngy-cUzsKtXQ"
   },
   "source": [
    "### Step 5: Model, loss, optimizer\n",
    "\n",
    "* Let 'model_reg` be equal to the `DiabetesMLP`\n",
    "* Let `criterion_reg` ne equal to `nn` with MSE loss\n",
    "* Let 'optimizer_reg` have the Adam optimizer with 'model.paramters' as default and the learning rate set to 0.01\n",
    "\n",
    "Return, these three."
   ]
  },
  {
   "cell_type": "code",
   "execution_count": 19,
   "metadata": {
    "id": "Y7nkZE6N8R_d"
   },
   "outputs": [
    {
     "data": {
      "text/plain": [
       "(DiabetesMLP(\n",
       "   (fc1): Linear(in_features=10, out_features=32, bias=True)\n",
       "   (fc2): Linear(in_features=32, out_features=1, bias=True)\n",
       " ),\n",
       " MSELoss(),\n",
       " Adam (\n",
       " Parameter Group 0\n",
       "     amsgrad: False\n",
       "     betas: (0.9, 0.999)\n",
       "     capturable: False\n",
       "     differentiable: False\n",
       "     eps: 1e-08\n",
       "     foreach: None\n",
       "     fused: None\n",
       "     lr: 0.01\n",
       "     maximize: False\n",
       "     weight_decay: 0\n",
       " ))"
      ]
     },
     "execution_count": 19,
     "metadata": {},
     "output_type": "execute_result"
    }
   ],
   "source": [
    "# CodeGrade step5\n",
    "\n",
    "# Initialize model, loss function, and optimizer\n",
    "model_reg = DiabetesMLP()\n",
    "criterion_reg = nn.MSELoss()\n",
    "optimizer_reg = optim.Adam(model_reg.parameters(), lr=0.01)\n",
    "\n",
    "model_reg, criterion_reg, optimizer_reg"
   ]
  },
  {
   "cell_type": "markdown",
   "metadata": {
    "id": "UYXNaqA1LQQt"
   },
   "source": [
    "Training and model evaluation"
   ]
  },
  {
   "cell_type": "code",
   "execution_count": 20,
   "metadata": {
    "id": "OpTls0T78XIm"
   },
   "outputs": [],
   "source": [
    "# CodeGrade step0\n",
    "\n",
    "# Training the MLP regression model\n",
    "train_ds_reg = TensorDataset(X2_train_t, y2_train_t)\n",
    "train_loader_reg = DataLoader(train_ds_reg, batch_size=16, shuffle=True)\n",
    "\n",
    "num_epochs = 50\n",
    "for epoch in range(num_epochs):\n",
    "    for batch_x, batch_y in train_loader_reg:\n",
    "        optimizer_reg.zero_grad()\n",
    "        outputs = model_reg(batch_x)\n",
    "        loss = criterion_reg(outputs, batch_y)\n",
    "        loss.backward()\n",
    "        optimizer_reg.step()\n",
    "\n",
    "  #  if (epoch+1) % 10 == 0:\n",
    "  #      print(f\"Epoch [{epoch+1}/{num_epochs}], Loss: {loss.item():.4f}\")\n",
    "\n",
    "# Evaluate the model\n",
    "model_reg.eval()\n",
    "with torch.no_grad():\n",
    "    predictions = model_reg(X2_test_t)\n",
    "    test_mse = criterion_reg(predictions, y2_test_t).item()\n",
    "    mae_loss = nn.L1Loss()(predictions, y2_test_t).item()\n",
    "\n",
    "\n"
   ]
  },
  {
   "cell_type": "markdown",
   "metadata": {
    "id": "ZRuPv7w8LTBi"
   },
   "source": [
    "### Step 6: Metrics\n",
    "\n",
    "Rounding to two decimal places, return the boolean for `test_mse` and `mae_loss`."
   ]
  },
  {
   "cell_type": "code",
   "execution_count": 21,
   "metadata": {
    "id": "Sih2RTe08iSF"
   },
   "outputs": [
    {
     "data": {
      "text/plain": [
       "False"
      ]
     },
     "execution_count": 21,
     "metadata": {},
     "output_type": "execute_result"
    }
   ],
   "source": [
    "# CodeGrade step6\n",
    "\n",
    "# Metrics\n",
    "round(test_mse, 2) == round(mae_loss, 2)\n"
   ]
  },
  {
   "cell_type": "markdown",
   "metadata": {
    "id": "WAEm_5C6Le-C"
   },
   "source": [
    "### Step 7: Sample Prediction"
   ]
  },
  {
   "cell_type": "markdown",
   "metadata": {
    "id": "6gHbhoq0LzFV"
   },
   "source": [
    "\n",
    "* Here it’s the first test sample (sample_idx=0).\n",
    "\n",
    " * '.unsqueeze(0)' again to form a single-batch input.\n",
    "* Return `sample_input`\n",
    "\n"
   ]
  },
  {
   "cell_type": "code",
   "execution_count": 22,
   "metadata": {
    "id": "vMJJUuWNPyIS"
   },
   "outputs": [
    {
     "data": {
      "text/plain": [
       "tensor([[ 0.9488, -0.9422, -0.1682, -0.3549,  2.6316,  2.6492,  0.4295,  0.7110,\n",
       "          0.6536, -0.1472]])"
      ]
     },
     "execution_count": 22,
     "metadata": {},
     "output_type": "execute_result"
    }
   ],
   "source": [
    "# CodeGrade step7\n",
    "\n",
    "# Make a sample prediction\n",
    "sample_idx = 0\n",
    "sample_input = X2_test_t[sample_idx].unsqueeze(0)\n",
    "sample_input\n"
   ]
  },
  {
   "cell_type": "code",
   "execution_count": 23,
   "metadata": {
    "id": "_C6l1Pf1Zbel"
   },
   "outputs": [],
   "source": [
    "# CodeGrade step0\n",
    "\n",
    "model_reg.eval()\n",
    "with torch.no_grad():\n",
    "    sample_output = model_reg(sample_input).item()"
   ]
  },
  {
   "cell_type": "markdown",
   "metadata": {
    "id": "5Ws0AulkLwH_"
   },
   "source": [
    "### Step 8: Sample output"
   ]
  },
  {
   "cell_type": "markdown",
   "metadata": {
    "id": "VLWtrDLNMEw_"
   },
   "source": [
    "Return `y2_test_t[sample_idx]`"
   ]
  },
  {
   "cell_type": "code",
   "execution_count": 24,
   "metadata": {
    "id": "__-0l7dpQHQJ"
   },
   "outputs": [
    {
     "data": {
      "text/plain": [
       "tensor([219.])"
      ]
     },
     "execution_count": 24,
     "metadata": {},
     "output_type": "execute_result"
    }
   ],
   "source": [
    "# CodeGrade step8\n",
    "\n",
    "# Sample output\n",
    "y2_test_t[sample_idx]"
   ]
  },
  {
   "cell_type": "markdown",
   "metadata": {
    "id": "9ZYsM_Z0MRfk"
   },
   "source": [
    "Return `sample_output`"
   ]
  },
  {
   "cell_type": "code",
   "execution_count": 25,
   "metadata": {
    "id": "RsdtV0fXanZy"
   },
   "outputs": [
    {
     "data": {
      "text/plain": [
       "156.84930419921875"
      ]
     },
     "execution_count": 25,
     "metadata": {},
     "output_type": "execute_result"
    }
   ],
   "source": [
    "# Sample output\n",
    "\n",
    "sample_output"
   ]
  },
  {
   "cell_type": "code",
   "execution_count": null,
   "metadata": {},
   "outputs": [],
   "source": []
  }
 ],
 "metadata": {
  "colab": {
   "provenance": []
  },
  "kernelspec": {
   "display_name": "Python 3 (ipykernel)",
   "language": "python",
   "name": "python3"
  },
  "language_info": {
   "codemirror_mode": {
    "name": "ipython",
    "version": 3
   },
   "file_extension": ".py",
   "mimetype": "text/x-python",
   "name": "python",
   "nbconvert_exporter": "python",
   "pygments_lexer": "ipython3",
   "version": "3.10.14"
  }
 },
 "nbformat": 4,
 "nbformat_minor": 4
}
